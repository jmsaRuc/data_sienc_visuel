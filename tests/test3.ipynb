{
 "cells": [
  {
   "cell_type": "code",
   "execution_count": 28,
   "metadata": {},
   "outputs": [
    {
     "name": "stdout",
     "output_type": "stream",
     "text": [
      "{\"model\":\"llama3-chatqa:8b-v1.5-q5_K_M\",\"created_at\":\"2024-05-21T11:19:23.640058227Z\",\"message\":{\"role\":\"assistant\",\"content\":\" Paris\"},\"done_reason\":\"stop\",\"done\":true,\"total_duration\":198909722,\"load_duration\":737453,\"prompt_eval_duration\":22739000,\"eval_count\":2,\"eval_duration\":21891000}\n"
     ]
    }
   ],
   "source": [
    "import requests\n",
    "\n",
    "url = \"http://172.29.211.112:11434/api/chat\"\n",
    "\n",
    "response = requests.post(url, json={\"model\": \"llama3-chatqa:8b-v1.5-q5_K_M\", \"messages\": [{\"role\":\"user\", \"content\":\"What is the capital of France?\"}], \"stream\": False})\n",
    "\n",
    "print(response.text)"
   ]
  }
 ],
 "metadata": {
  "kernelspec": {
   "display_name": "data-sienc-visuel-mvgrUAeD-py3.10",
   "language": "python",
   "name": "python3"
  },
  "language_info": {
   "codemirror_mode": {
    "name": "ipython",
    "version": 3
   },
   "file_extension": ".py",
   "mimetype": "text/x-python",
   "name": "python",
   "nbconvert_exporter": "python",
   "pygments_lexer": "ipython3",
   "version": "3.10.11"
  }
 },
 "nbformat": 4,
 "nbformat_minor": 2
}
