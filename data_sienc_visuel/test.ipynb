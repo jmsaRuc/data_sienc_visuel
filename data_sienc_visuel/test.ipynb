{
 "cells": [
  {
   "cell_type": "code",
   "execution_count": null,
   "metadata": {},
   "outputs": [],
   "source": [
    "from langchain_community.document_loaders import PDFMinerPDFasHTMLLoader"
   ]
  },
  {
   "cell_type": "code",
   "execution_count": null,
   "metadata": {},
   "outputs": [],
   "source": [
    "curl 172.29.211.112:11434/api/chat -d '{\n",
    "  \"model\": \"llama3-chatqa:8b-v1.5-q5_K_M\",\n",
    "  \"messages\": [\n",
    "    {\n",
    "      \"role\": \"user\",\n",
    "      \"content\": \"why is the sky blue?\"\n",
    "    }\n",
    "  ],\n",
    "  \"stream\": true\n",
    "}'"
   ]
  },
  {
   "cell_type": "code",
   "execution_count": null,
   "metadata": {},
   "outputs": [],
   "source": [
    "http://172.29.208.1\n",
    "\n",
    "http://172.17.0.0\n",
    "\n",
    "http://172.17.0.1"
   ]
  },
  {
   "cell_type": "code",
   "execution_count": null,
   "metadata": {},
   "outputs": [],
   "source": [
    "[Unit]\n",
    "Description=Ollama Service\n",
    "After=network-online.target\n",
    "\n",
    "[Service]\n",
    "ExecStart=/home/jens/ollama/ollama serve\n",
    "User=ollama\n",
    "Group=ollama\n",
    "Restart=always\n",
    "RestartSec=3\n",
    "Environment=\"OLLAMA_FLASH_ATTENTION=1\"\n",
    "Environment=\"OLLAMA_HOST=0.0.0.0:11434\"\n",
    "Environment=\"HOME=/home/jens/ollama\"\n",
    "Environment=\"PATH=/home/linuxbrew/.linuxbrew/bin:/home/linuxbrew/.linuxbrew/>\n",
    "Environment=\"OLLAMA_MAX_VRAM=8589934592\"\n",
    "Environment=\"OLLAMA_FLASH_ATTENTION=1\"\n",
    "Environment=\"OLLAMA_KEEP_ALIVE=-1\"\n",
    "Environment=\"OLLAMA_ORIGINS=https://172.17.0.1,http://172.17.0.1,https://172>\n",
    "\n",
    "[Install]\n",
    "WantedBy=multi-user.target"
   ]
  },
  {
   "cell_type": "code",
   "execution_count": null,
   "metadata": {},
   "outputs": [],
   "source": [
    "loader = PDFMinerPDFasHTMLLoader('D:/school/ALL_PDFs/well_structured/A20080047930.pdf')"
   ]
  },
  {
   "cell_type": "code",
   "execution_count": null,
   "metadata": {},
   "outputs": [],
   "source": [
    "data = loader.load()[0]   # entire PDF is loaded as a single Document"
   ]
  },
  {
   "cell_type": "code",
   "execution_count": null,
   "metadata": {},
   "outputs": [],
   "source": [
    "from bs4 import BeautifulSoup\n",
    "soup = BeautifulSoup(data.page_content,'html.parser')\n",
    "content = soup.find_all('span')"
   ]
  },
  {
   "cell_type": "code",
   "execution_count": null,
   "metadata": {},
   "outputs": [],
   "source": [
    "content"
   ]
  },
  {
   "cell_type": "code",
   "execution_count": null,
   "metadata": {},
   "outputs": [],
   "source": [
    "import re\n",
    "cur_fsm = None\n",
    "cur_fs = None\n",
    "cur_text = ''\n",
    "snippets = []   # first collect all snippets that have the same font size\n",
    "for c in content:\n",
    "    st = c.get('style')\n",
    "    if not st:\n",
    "        continue\n",
    "    fsm = re.findall('font-family:(.*?);',st)\n",
    "    fs = re.findall('font-size:(\\d+)px',st)\n",
    "    if not fsm or not fs:\n",
    "        continue\n",
    "    fsm = str(fsm[0]).strip()\n",
    "    fs = int(fs[0])\n",
    "    if not cur_fsm: \n",
    "        cur_fsm = fsm\n",
    "    if not cur_fs:\n",
    "        cur_fs = fs      \n",
    "    if fsm == cur_fsm and fs == cur_fs: \n",
    "        cur_text += c.text  \n",
    "    else:\n",
    "        snippets.append((cur_text,cur_fsm,cur_fs))\n",
    "        cur_fsm = fsm\n",
    "        cur_fs = fs\n",
    "        cur_text = c.text\n",
    "snippets.append((cur_text,cur_fsm,cur_fs))"
   ]
  },
  {
   "cell_type": "code",
   "execution_count": null,
   "metadata": {},
   "outputs": [],
   "source": [
    "tempsnippets = snippets\n",
    "snippets = []\n",
    "for i in range(len(tempsnippets)):\n",
    "    if i >= 4:\n",
    "        snippets.append(tempsnippets[i])"
   ]
  },
  {
   "cell_type": "code",
   "execution_count": null,
   "metadata": {},
   "outputs": [],
   "source": [
    "snippets"
   ]
  },
  {
   "cell_type": "code",
   "execution_count": null,
   "metadata": {},
   "outputs": [],
   "source": [
    "for snip in snippets:\n",
    "    if snip[1] != 'TimesNewRomanPS-BoldMT':\n",
    "        print(snip[1])"
   ]
  },
  {
   "cell_type": "code",
   "execution_count": null,
   "metadata": {},
   "outputs": [],
   "source": [
    "for snip in snippets: \n",
    "    print(snip[1])"
   ]
  },
  {
   "cell_type": "code",
   "execution_count": null,
   "metadata": {},
   "outputs": [],
   "source": [
    "for snip in snippets:\n",
    "    if len(snip[0]) > 100:\n",
    "        print('Text:',snip[0])\n",
    "    "
   ]
  },
  {
   "cell_type": "code",
   "execution_count": null,
   "metadata": {},
   "outputs": [],
   "source": [
    "for snip in snippets :\n",
    "    print('Font size:',snip[1])\n",
    "    print('Text:',snip[0])\n",
    "    print('---')\n",
    "    print()"
   ]
  },
  {
   "cell_type": "code",
   "execution_count": null,
   "metadata": {},
   "outputs": [],
   "source": [
    "for snip in snippets:\n",
    "    if snip[1] == 8:\n",
    "        print('Text:',snip[0])    "
   ]
  },
  {
   "cell_type": "code",
   "execution_count": null,
   "metadata": {},
   "outputs": [],
   "source": [
    "from langchain_community.docstore.document import Document\n",
    "cur_idx = -1\n",
    "semantic_snippets = []\n",
    "# Assumption: headings have higher font size than their respective content\n",
    "for s in snippets:\n",
    "    # if current snippet's font size > previous section's heading => it is a new heading\n",
    "    if not semantic_snippets  or s[2] > semantic_snippets[cur_idx].metadata['heading_fontS']:   \n",
    "        metadata={'heading':s[0],'content_fontM':'', 'heading_fontM':s[1], 'content_fontS': 0, 'heading_fontS': s[2]}\n",
    "        metadata.update(data.metadata)\n",
    "        semantic_snippets.append(Document(page_content='',metadata=metadata))\n",
    "        cur_idx += 1\n",
    "        continue\n",
    "    \n",
    "    if s[1] != semantic_snippets[cur_idx].metadata['content_fontM']:\n",
    "        if semantic_snippets[cur_idx].page_content != '':\n",
    "                if 'Bold' in s[1] or 'Italic' in s[1] or 'BoldItalic' in s[1] or 'BoldOblique' in s[1] or 'BoldOblique' in s[1]:\n",
    "                    metadata={'heading':s[0],'content_fontM':'', 'heading_fontM':s[1], 'content_fontS': 0, 'heading_fontS': s[2]}\n",
    "                    metadata.update(data.metadata)\n",
    "                    semantic_snippets.append(Document(page_content='',metadata=metadata))\n",
    "                    cur_idx += 1\n",
    "                    continue\n",
    "    # if current snippet's font size <= previous section's content => content belongs to the same section (one can also create\n",
    "    # a tree like structure for sub sections if needed but that may require some more thinking and may be data specific)\n",
    "\n",
    "        \n",
    "    if not semantic_snippets[cur_idx].metadata['content_fontS'] or not semantic_snippets[cur_idx].metadata['content_fontM'] or not 'Bold' in s[1] or not 'Italic' in s[1] or not 'BoldItalic' in s[1] or not 'BoldOblique' in s[1] or not  'BoldOblique' in s[1] or s[2] <= semantic_snippets[cur_idx].metadata['content_fontS']:\n",
    "        semantic_snippets[cur_idx].page_content += s[0]\n",
    "        semantic_snippets[cur_idx].metadata['content_fontM'] = s[1] if not semantic_snippets[cur_idx].metadata['content_fontM'] else semantic_snippets[cur_idx].metadata['content_fontM']\n",
    "        semantic_snippets[cur_idx].metadata['content_fontS'] = max(s[2], semantic_snippets[cur_idx].metadata['content_fontS'])\n",
    "        continue\n",
    "\n",
    "    # if current snippet's font size > previous section's content but less than previous section's heading than also make a new\n",
    "    # section (e.g. title of a PDF will have the highest font size but we don't want it to subsume all sections)\n",
    "    \n",
    "  \n",
    "    \n",
    "    if s[2] > semantic_snippets[cur_idx].metadata['content_fontS'] and s[2] < semantic_snippets[cur_idx].metadata['heading_fontS']:\n",
    "        metadata={'heading':s[0],'content_fontM':'', 'heading_fontM':s[1], 'content_fontS': 0, 'heading_fontS': s[2]}\n",
    "        metadata.update(data.metadata)\n",
    "        semantic_snippets.append(Document(page_content='',metadata=metadata))\n",
    "        cur_idx += 1\n",
    "        continue\n",
    "    \n",
    "    \n",
    "    \n",
    "    metadata={'heading':s[0], 'content_fontM':'', 'heading_fontM':s[1],'content_fontS': 0, 'heading_fontS': s[2]}\n",
    "    metadata.update(data.metadata)\n",
    "    semantic_snippets.append(Document(page_content='',metadata=metadata))\n",
    "    cur_idx += 1"
   ]
  },
  {
   "cell_type": "code",
   "execution_count": null,
   "metadata": {},
   "outputs": [],
   "source": [
    "string1 = 'hello friend'\n",
    "string2 = 'hello friend how are you'\n",
    "\n",
    "if 'ell' in string2:\n",
    "    print('yes')"
   ]
  },
  {
   "cell_type": "code",
   "execution_count": null,
   "metadata": {},
   "outputs": [],
   "source": [
    "for snip in semantic_snippets:\n",
    "    print('HEADING:  ', snip.metadata['heading'], snip.metadata['heading_fontM'])\n",
    "    print('-----------------')\n",
    "    print()\n",
    "    print('CONTENT LEN:  ',len(snip.page_content))\n",
    "    print('---------------------------------------------------------------------------------')\n",
    "    print()\n"
   ]
  },
  {
   "cell_type": "code",
   "execution_count": null,
   "metadata": {},
   "outputs": [],
   "source": [
    "\n",
    "\n",
    "for snip in semantic_snippets:\n",
    "    print('HEADING:  ',snip.metadata['heading'])\n",
    "    print('-----------------')\n",
    "    print()\n",
    "    print('CONTENT:  ',snip.page_content)\n",
    "    print('---------------------------------------------------------------------------------')\n",
    "    print()\n"
   ]
  },
  {
   "cell_type": "code",
   "execution_count": null,
   "metadata": {},
   "outputs": [],
   "source": [
    "semantic_snippets"
   ]
  },
  {
   "cell_type": "code",
   "execution_count": null,
   "metadata": {},
   "outputs": [],
   "source": [
    "semantic_snippets[0].metadata['content_font']"
   ]
  },
  {
   "cell_type": "code",
   "execution_count": null,
   "metadata": {},
   "outputs": [],
   "source": [
    "for each in semantic_snippets:\n",
    "    if len(each.page_content) > 130:\n",
    "        print('Heading:',each.metadata['heading'])\n",
    "        print('Content:',each.page_content)\n",
    "        print('---')\n",
    "        print()"
   ]
  }
 ],
 "metadata": {
  "kernelspec": {
   "display_name": "data-sienc-visuel-mvgrUAeD-py3.10",
   "language": "python",
   "name": "python3"
  },
  "language_info": {
   "codemirror_mode": {
    "name": "ipython",
    "version": 3
   },
   "file_extension": ".py",
   "mimetype": "text/x-python",
   "name": "python",
   "nbconvert_exporter": "python",
   "pygments_lexer": "ipython3",
   "version": "3.10.11"
  }
 },
 "nbformat": 4,
 "nbformat_minor": 2
}
