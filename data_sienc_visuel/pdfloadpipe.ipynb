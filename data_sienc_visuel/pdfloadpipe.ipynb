{
 "cells": [
  {
   "cell_type": "code",
   "execution_count": 14,
   "metadata": {},
   "outputs": [],
   "source": [
    "import os \n",
    "from scripts import snipPdf\n",
    "import pandas as pd \n",
    "import numpy as np\n",
    "import matplotlib.pyplot as plt\n",
    "import chardet as chardet\n",
    "import requests\n",
    "from bs4 import BeautifulSoup\n",
    "from alive_progress import alive_bar\n",
    "from alive_progress import alive_it\n",
    "from scripts import print_pdf\n",
    "import pickle"
   ]
  },
  {
   "cell_type": "code",
   "execution_count": 2,
   "metadata": {},
   "outputs": [
    {
     "name": "stdout",
     "output_type": "stream",
     "text": [
      "utf-16le\n"
     ]
    }
   ],
   "source": [
    "def get_encoding(file):\n",
    "        with open(file, 'rb') as f:\n",
    "            result = chardet.detect(f.read())\n",
    "        return result['encoding']\n",
    "file_path = 'C:/Users/Jens/data_sienc_visuel/data2/Resultat2.csv'\n",
    "encoding = get_encoding(file_path)\n",
    "print(encoding)\n"
   ]
  },
  {
   "cell_type": "code",
   "execution_count": 3,
   "metadata": {},
   "outputs": [
    {
     "name": "stdout",
     "output_type": "stream",
     "text": [
      "<class 'pandas.core.frame.DataFrame'>\n",
      "RangeIndex: 57806 entries, 0 to 57805\n",
      "Data columns (total 29 columns):\n",
      " #   Column                       Non-Null Count  Dtype  \n",
      "---  ------                       --------------  -----  \n",
      " 0   Rank                         57806 non-null  object \n",
      " 1   DokumentType                 57806 non-null  object \n",
      " 2   Titel                        57806 non-null  object \n",
      " 3   PopulærTitel                 1373 non-null   object \n",
      " 4   Ressort                      57806 non-null  object \n",
      " 5   AdministrerendeMyndighed     42568 non-null  object \n",
      " 6   JournalNummer                55179 non-null  object \n",
      " 7   Nummer                       57806 non-null  int64  \n",
      " 8   År                           57806 non-null  int64  \n",
      " 9   DokumentId                   57806 non-null  object \n",
      " 10  ACCN                         57806 non-null  object \n",
      " 11  Publiceringsmedie            57806 non-null  object \n",
      " 12  UndtagetFraOffentliggørelse  133 non-null    object \n",
      " 13  GeografiskDækning            57806 non-null  object \n",
      " 14  UnderskriftDato              57717 non-null  float64\n",
      " 15  PubliceretTidspunkt          57806 non-null  int64  \n",
      " 16  SidstPubliceretTidspunkt     57806 non-null  int64  \n",
      " 17  BekendtgørelsesDato          19304 non-null  float64\n",
      " 18  HistoriskDato                0 non-null      float64\n",
      " 19  Historisk                    57806 non-null  bool   \n",
      " 20  RedaktionelNote              5268 non-null   object \n",
      " 21  OmtryksNote                  140 non-null    object \n",
      " 22  AlternativeMedierNote        1766 non-null   object \n",
      " 23  AnfoerINote                  411 non-null    object \n",
      " 24  HjemmelVedroerer             37425 non-null  object \n",
      " 25  SenereAendringer             2711 non-null   object \n",
      " 26  ÆndrerI                      10222 non-null  object \n",
      " 27  Tiltræder                    82 non-null     object \n",
      " 28  EliUrl                       57806 non-null  object \n",
      "dtypes: bool(1), float64(3), int64(4), object(21)\n",
      "memory usage: 12.4+ MB\n"
     ]
    },
    {
     "name": "stderr",
     "output_type": "stream",
     "text": [
      "C:\\Users\\Jens\\AppData\\Local\\Temp\\ipykernel_23016\\3808103124.py:1: DtypeWarning: Columns (21) have mixed types. Specify dtype option on import or set low_memory=False.\n",
      "  df = pd.read_csv(file_path, encoding=encoding, sep=';')\n"
     ]
    }
   ],
   "source": [
    "df = pd.read_csv(file_path, encoding=encoding, sep=';')\n",
    "df.info() "
   ]
  },
  {
   "cell_type": "code",
   "execution_count": null,
   "metadata": {},
   "outputs": [],
   "source": [
    "import os\n",
    "accn = []\n",
    "for object in df['ACCN']: \n",
    "    accn.append(object)"
   ]
  },
  {
   "cell_type": "code",
   "execution_count": 9,
   "metadata": {},
   "outputs": [
    {
     "name": "stdout",
     "output_type": "stream",
     "text": [
      "57802\n"
     ]
    }
   ],
   "source": [
    "file_namesFF=[]\n",
    "def get_file_names(directory):\n",
    "    file_namesT = []\n",
    "    for dir in directory:\n",
    "        for root, dirs, files in os.walk(dir):\n",
    "            for file in files:\n",
    "                split_file= file.split(\".\")\n",
    "                file_name = split_file[0]\n",
    "                file_namesT.append(file_name)     \n",
    "    return file_namesT\n",
    "# Example usage\n",
    "directory_path = ['D:/school/ALL_PDFs/snip5']\n",
    "file_namesFF = get_file_names(directory_path)\n",
    "print(len(file_namesFF))"
   ]
  },
  {
   "cell_type": "code",
   "execution_count": null,
   "metadata": {},
   "outputs": [],
   "source": [
    "import numpy as np\n",
    "\n",
    "# Define the two arrays\n",
    "\n",
    "\n",
    "# Find the non-duplicate elements\n",
    "non_duplicates = np.setdiff1d(accn, file_names)\n",
    "\n",
    "# Print the non-duplicates\n",
    "print(len(non_duplicates))\n",
    "print(non_duplicates)"
   ]
  },
  {
   "cell_type": "code",
   "execution_count": null,
   "metadata": {},
   "outputs": [],
   "source": [
    "file_names1=[]\n",
    "file_paths = []\n",
    "def get_file_names(directory):\n",
    "    file_namesT = []\n",
    "    file_paths = []\n",
    "    count = 0\n",
    "    for dir in directory:\n",
    "        for root, dirs, files in os.walk(dir):\n",
    "            for file in files:\n",
    "                split_file= file.split(\".\")\n",
    "                file_name = split_file[0]\n",
    "                for object in non_duplicates:\n",
    "                    if object == file_name:\n",
    "                        file_namesT.append(file_name)   \n",
    "                        file_path = root+\"/\"+file\n",
    "                        file_paths.append(file_path)\n",
    "                count += 1    \n",
    "                print(count)\n",
    "    return file_namesT, file_paths\n",
    "# Example usage\n",
    "directory_path = ['D:/school/ALL_PDFs/well_structured','D:/school/ALL_PDFs/print']\n",
    "file_names1,file_paths = get_file_names(directory_path)\n",
    "print(len(file_names1))\n",
    "print(len(file_paths))\n",
    "print(file_paths[48])"
   ]
  },
  {
   "cell_type": "code",
   "execution_count": null,
   "metadata": {},
   "outputs": [],
   "source": [
    "print(len(file_names1))\n",
    "print(len(file_paths))\n",
    "print(file_paths[48])"
   ]
  },
  {
   "cell_type": "code",
   "execution_count": 12,
   "metadata": {},
   "outputs": [
    {
     "name": "stdout",
     "output_type": "stream",
     "text": [
      "91\n",
      "91\n"
     ]
    }
   ],
   "source": [
    "file_names1=[]\n",
    "file_paths = []\n",
    "def get_file_names(directory):\n",
    "    file_namesT = []\n",
    "    file_paths = []\n",
    "    for dir in directory:\n",
    "        for root, dirs, files in os.walk(dir):\n",
    "            for file in files:\n",
    "                file_path = root+\"/\"+file\n",
    "                file_paths.append(file_path)\n",
    "                split_file= file.split(\".\")\n",
    "                file_name = split_file[0]\n",
    "                file_namesT.append(file_name)     \n",
    "    return file_namesT, file_paths\n",
    "# Example usage\n",
    "directory_path = ['C:/Users/Jens/data_sienc_visuel/data2/pdf/well_structured','C:/Users/Jens/data_sienc_visuel/data2/pdf/print']\n",
    "file_names1,file_paths = get_file_names(directory_path)\n",
    "print(len(file_names1))\n",
    "print(len(file_paths))"
   ]
  },
  {
   "cell_type": "code",
   "execution_count": 16,
   "metadata": {},
   "outputs": [
    {
     "name": "stdout",
     "output_type": "stream",
     "text": [
      "91\n",
      "91\n",
      "91\n"
     ]
    }
   ],
   "source": [
    "urls_pdf = []\n",
    "file_names = []\n",
    "def make_urls_and_file_names(files):\n",
    "    urls_pdfT = []\n",
    "    file_namesT = []\n",
    "    count = 0\n",
    "    for file in files:\n",
    "        file_namesT.append(file)\n",
    "        urls_pdfT.append(\"https://www.retsinformation.dk/eli/accn/\" + file)\n",
    "        count += 1    \n",
    "    print(count)    \n",
    "    return urls_pdfT,file_namesT\n",
    "\n",
    "urls_pdf, file_names = make_urls_and_file_names(file_names1)\n",
    "\n",
    "print(len(urls_pdf))\n",
    "print(len(file_names))"
   ]
  },
  {
   "cell_type": "code",
   "execution_count": null,
   "metadata": {},
   "outputs": [],
   "source": [
    "\n",
    "def chunks(lst, n):\n",
    "    \"\"\"Yield successive n-sized chunks from lst.\"\"\"\n",
    "    for i in range(0, len(lst), n):\n",
    "        yield lst[i:i + n]"
   ]
  },
  {
   "cell_type": "code",
   "execution_count": null,
   "metadata": {},
   "outputs": [],
   "source": [
    "import pprint\n",
    "chunksed_filenamses = []\n",
    "\n",
    "chunksed_filenamses = list(chunks(file_names, 1))  \n",
    "chunksed_urls_pdf = list(chunks(urls_pdf, 1))\n",
    "chunksed_file_paths = list(chunks(file_paths, 1))  \n"
   ]
  },
  {
   "cell_type": "code",
   "execution_count": null,
   "metadata": {},
   "outputs": [],
   "source": [
    "compined_lengt = 0\n",
    "\n",
    "for i in range(len(chunksed_filenamses)):\n",
    "    compined_lengt += len(chunksed_filenamses[i])\n",
    "    \n",
    "print(compined_lengt)    "
   ]
  },
  {
   "cell_type": "code",
   "execution_count": null,
   "metadata": {},
   "outputs": [],
   "source": [
    "part = 0\n",
    "\n",
    "\n",
    "print(len(chunksed_urls_pdf[part]))\n",
    "print(chunksed_urls_pdf[part])\n",
    "print(len(chunksed_filenamses[part]))\n",
    "print(chunksed_filenamses[part])\n",
    "print(len(chunksed_file_paths[part]))\n",
    "print(chunksed_file_paths[part])"
   ]
  },
  {
   "cell_type": "code",
   "execution_count": null,
   "metadata": {},
   "outputs": [],
   "source": [
    "import asyncio\n",
    "\n",
    "def background(f):\n",
    "    def wrapped(*args, **kwargs):\n",
    "        return asyncio.get_event_loop().run_in_executor(None, lambda: f(*args, **kwargs))\n",
    "    return wrapped\n",
    "\n",
    "@background\n",
    "def snipBacground(file_paths, file_names): \n",
    "    snipPdf.run(file_paths, file_names)"
   ]
  },
  {
   "cell_type": "code",
   "execution_count": null,
   "metadata": {},
   "outputs": [],
   "source": [
    "snipPdf.run(file_paths, file_names)"
   ]
  },
  {
   "cell_type": "code",
   "execution_count": null,
   "metadata": {},
   "outputs": [],
   "source": [
    "import asyncio\n",
    "\n",
    "\n",
    "def background(f):\n",
    "    def wrapped(*args, **kwargs):\n",
    "        return asyncio.get_event_loop().run_in_executor(None, f, *args, **kwargs)\n",
    "    return wrapped\n",
    "\n",
    "@background\n",
    "def snipMandSave(file_paths,part):\n",
    "    snipPdf.run(file_paths,part)\n",
    "    \n",
    "\n",
    "for i in range(len(chunksed_file_paths)):\n",
    "    snipMandSave(chunksed_file_paths[i],chunksed_filenamses[i])   \n"
   ]
  },
  {
   "cell_type": "code",
   "execution_count": null,
   "metadata": {},
   "outputs": [],
   "source": [
    "docs = []"
   ]
  },
  {
   "cell_type": "code",
   "execution_count": null,
   "metadata": {},
   "outputs": [],
   "source": [
    "import pandas as pd \n",
    "import chardet as chardet\n",
    "\n",
    "def get_encoding(file):\n",
    "    with open(file, 'rb') as f:\n",
    "        result = chardet.detect(f.read())\n",
    "    return result['encoding']\n",
    "file_path = 'C:/Users/Jens/data_sienc_visuel/data/Resultat2.csv'\n",
    "encoding = get_encoding(file_path)\n",
    "print(encoding)"
   ]
  },
  {
   "cell_type": "code",
   "execution_count": null,
   "metadata": {},
   "outputs": [],
   "source": [
    "df = pd.read_csv(file_path, encoding=encoding, sep=';')\n",
    "df.info() "
   ]
  },
  {
   "cell_type": "code",
   "execution_count": null,
   "metadata": {},
   "outputs": [],
   "source": [
    "import pickle\n",
    "with open('D:/school/ALL_PDFs/snips2/A20080008930.pkl', 'rb') as f:\n",
    "    docs2 = pickle.load(f)"
   ]
  },
  {
   "cell_type": "code",
   "execution_count": 24,
   "metadata": {},
   "outputs": [],
   "source": [
    "##TESTER FOR BAD DOCS\n",
    "testfilenames = file_names\n",
    "import pickle\n",
    "\n",
    "testDocs = []\n",
    "for file_name in testfilenames:\n",
    "    with open('D:/school/ALL_PDFs/snip5/'+file_name+'.pkl', 'rb') as f:\n",
    "        docs = pickle.load(f)\n",
    "        testDocs.append(docs)\n",
    "        f.close()"
   ]
  },
  {
   "cell_type": "code",
   "execution_count": 25,
   "metadata": {},
   "outputs": [
    {
     "data": {
      "text/plain": [
       "91"
      ]
     },
     "execution_count": 25,
     "metadata": {},
     "output_type": "execute_result"
    }
   ],
   "source": [
    "len(testDocs)"
   ]
  },
  {
   "cell_type": "code",
   "execution_count": 26,
   "metadata": {},
   "outputs": [],
   "source": [
    "tokenmax = 7000\n",
    "maxCareterLenght = 2 * tokenmax"
   ]
  },
  {
   "cell_type": "code",
   "execution_count": 27,
   "metadata": {},
   "outputs": [],
   "source": [
    "from langchain_text_splitters import RecursiveCharacterTextSplitter\n",
    "  \n",
    "def Snipper(text):\n",
    "    concatenated_content = \"\\n\\n\\n --- \\n\\n\\n\".join(text)\n",
    "    text_splitter = RecursiveCharacterTextSplitter.from_tiktoken_encoder(\n",
    "    chunk_size=tokenmax, chunk_overlap=0)   \n",
    "    texts_splits = text_splitter.split_text(text)\n",
    "    return texts_splits   "
   ]
  },
  {
   "cell_type": "code",
   "execution_count": 28,
   "metadata": {},
   "outputs": [
    {
     "name": "stdout",
     "output_type": "stream",
     "text": [
      "91\n"
     ]
    }
   ],
   "source": [
    "from langchain_community.docstore.document import Document\n",
    "docs2 = []\n",
    "for doc in testDocs:\n",
    "    tokenSemantic_snippet = []\n",
    "    for semantic_snippet in doc:\n",
    "        snipCareterLength = len(semantic_snippet.page_content)\n",
    "        if snipCareterLength > maxCareterLenght:\n",
    "            texts_splits = Snipper(semantic_snippet.page_content)\n",
    "            count = 0\n",
    "            for text_split in texts_splits:\n",
    "                count += 1\n",
    "                metadata = {'heading':semantic_snippet.metadata['heading']+str(count) ,'content_fontM':semantic_snippet.metadata['content_fontM'] , 'heading_fontM':semantic_snippet.metadata['heading_fontM'] , 'content_fontS': semantic_snippet.metadata['content_fontS'] , 'heading_fontS': semantic_snippet.metadata['heading_fontS'] , 'content_has_h_elem':semantic_snippet.metadata['content_has_h_elem'] , 'heading_has_h_elem':semantic_snippet.metadata['heading_has_h_elem']}\n",
    "                tokenSemantic_snippet.append(Document(page_content=text_split,metadata=metadata))\n",
    "        else:\n",
    "            tokenSemantic_snippet.append(Document(page_content=semantic_snippet.page_content,metadata=semantic_snippet.metadata))\n",
    "    docs2.append(tokenSemantic_snippet)                \n",
    "                \n",
    "            \n",
    "print(len(docs2))                "
   ]
  },
  {
   "cell_type": "code",
   "execution_count": null,
   "metadata": {},
   "outputs": [],
   "source": [
    "count = 0\n",
    "totalErrorFilels = 0\n",
    "totalErrorAmount = 0\n",
    "for doc in docs2: \n",
    "    count += 1\n",
    "    snipcount= 0\n",
    "    fileErrorCount = 0\n",
    "    for semantic_snippet in doc:\n",
    "        snipcount += 1\n",
    "        if len(semantic_snippet.page_content) > maxCareterLenght:\n",
    "            print('ERROR AT FILE:  ',count)\n",
    "            print('ERROR AT SNIPPET:  ',snipcount)\n",
    "            print('AMOUNT of ERRORS in file:  ',fileErrorCount)\n",
    "            print('PAGE_CONTENT_LENGT_TOKENS: ',len(semantic_snippet.page_content)/2)\n",
    "            print('-------------------------------')\n",
    "            fileErrorCount += 1   \n",
    "    if fileErrorCount > 0:\n",
    "        totalErrorAmount += fileErrorCount\n",
    "        totalErrorFilels += 1 \n",
    "        print('ERROR AT FILE:  ',count)\n",
    "        print('AMOUNT of ERRORS in file:  ',fileErrorCount)\n",
    "        print('--------------------------------------------') \n",
    "        print('_________________________NEW_FILE__________________________')\n",
    "if totalErrorFilels > 0:      \n",
    "    print('____________________________________________________END______________________________________________________')        \n",
    "    print('TOTAL ERROR FILES:  ',totalErrorFilels) \n",
    "    print('TOTAL ERROR AMOUNT:  ',totalErrorAmount)\n",
    "    print('AVAGE ERROR AMOUNT PER FILE:  ',totalErrorAmount/totalErrorFilels)              \n",
    "     \n",
    "                 \n",
    "            "
   ]
  },
  {
   "cell_type": "code",
   "execution_count": 23,
   "metadata": {},
   "outputs": [],
   "source": [
    "import pickle\n",
    "\n",
    "docs2 = []\n",
    "for file_name in file_names:\n",
    "    with open('D:/school/ALL_PDFs/snip5/'+file_name+'.pkl', 'rb') as f:\n",
    "        docs = pickle.load(f)\n",
    "        docs2.append(docs)\n",
    "        f.close()"
   ]
  },
  {
   "cell_type": "code",
   "execution_count": 29,
   "metadata": {},
   "outputs": [
    {
     "name": "stdout",
     "output_type": "stream",
     "text": [
      "91\n"
     ]
    }
   ],
   "source": [
    "print(len(docs2))"
   ]
  },
  {
   "cell_type": "code",
   "execution_count": null,
   "metadata": {},
   "outputs": [],
   "source": [
    "for semantic_snippet in docs2[0]:\n",
    "    print('HEADING:  ',semantic_snippet.metadata['heading'])\n",
    "    print('-----------------')\n",
    "    print()\n",
    "    print('CONTENT_LENGT:  ',len(semantic_snippet.page_content))\n",
    "    print()\n",
    "    print('CONTENT_ESTIMATET_TOKEN:  ',len(semantic_snippet.page_content)/4)\n",
    "    print()\n",
    "    print('-----------------')\n",
    "    print()\n",
    "    print('CONTENT_FIRST_500C:')\n",
    "    print()\n",
    "    print(semantic_snippet.page_content[:500])\n",
    "    print('---------------------------------------------------------------------------------')\n",
    "    print()"
   ]
  },
  {
   "cell_type": "code",
   "execution_count": 30,
   "metadata": {},
   "outputs": [],
   "source": [
    "def getAccnFromPath(path):\n",
    "    split_path = path.split(\"/\")\n",
    "    file_name = split_path[-1]\n",
    "    split_file_name = file_name.split(\".\")\n",
    "    accn = split_file_name[0]\n",
    "    return accn"
   ]
  },
  {
   "cell_type": "code",
   "execution_count": 31,
   "metadata": {},
   "outputs": [],
   "source": [
    "def getrowFromAccn(row,rowV):\n",
    "    variablesRow = row[rowV]\n",
    "    result = str(variablesRow.values[0])\n",
    "    return result"
   ]
  },
  {
   "cell_type": "code",
   "execution_count": 32,
   "metadata": {},
   "outputs": [],
   "source": [
    "def getAllmetadata(accn,df):\n",
    "  row = df.loc[df['ACCN'] == accn]\n",
    "  EliUrl = getrowFromAccn(row,'EliUrl')\n",
    "  Rank = getrowFromAccn(row,'Rank')\n",
    "  DokumentType = getrowFromAccn(row,'DokumentType')\n",
    "  Titel = getrowFromAccn(row,'Titel')\n",
    "  PopulærTitel = getrowFromAccn(row,'PopulærTitel')\n",
    "  Ressort = getrowFromAccn(row,'Ressort')\n",
    "  AdministrerendeMyndighed = getrowFromAccn(row,'AdministrerendeMyndighed')\n",
    "  År = getrowFromAccn(row,'År')\n",
    "  Accn = getrowFromAccn(row,'ACCN')\n",
    "  PubliceretTidspunkt = getrowFromAccn(row,'PubliceretTidspunkt')\n",
    "  SidstPubliceretTidspunkt = getrowFromAccn(row,'SidstPubliceretTidspunkt')\n",
    "  HjemmelVedroerer = getrowFromAccn(row,'HjemmelVedroerer')\n",
    "  metadata = {'snipheading':'','EliUrl':EliUrl,'Rank':Rank,'DokumentType':DokumentType,'Titel':Titel,'PopulærTitel':PopulærTitel,'Ressort':Ressort,'AdministrerendeMyndighed':AdministrerendeMyndighed,'År':År,'ACCN':Accn,'PubliceretTidspunkt':PubliceretTidspunkt,'SidstPubliceretTidspunkt':SidstPubliceretTidspunkt,'HjemmelVedroerer':HjemmelVedroerer}\n",
    "  return metadata\n",
    "  \n",
    "\n",
    "  \n",
    "\n",
    "\n",
    "  \n",
    "          \n",
    "\n"
   ]
  },
  {
   "cell_type": "code",
   "execution_count": 33,
   "metadata": {},
   "outputs": [],
   "source": [
    "def getTitelfromAccn(accn,df):\n",
    "    row = df.loc[df['ACCN'] == accn]\n",
    "    variablesRow = row['Titel']\n",
    "    result = str(variablesRow.values[0])\n",
    "    return result"
   ]
  },
  {
   "cell_type": "code",
   "execution_count": 34,
   "metadata": {},
   "outputs": [],
   "source": [
    "def getAccnFromTitel(titel,df):\n",
    "    row = df\n",
    "    variables = row.loc[row['Titel'] == titel]\n",
    "    variablesRow = variables['ACCN']\n",
    "    result = str(variablesRow.values[0])\n",
    "    return result"
   ]
  },
  {
   "cell_type": "code",
   "execution_count": 35,
   "metadata": {},
   "outputs": [],
   "source": [
    "from langchain_community.docstore.document import Document\n",
    "\n",
    "newDocs = []\n",
    "\n",
    "for doc in docs2:\n",
    "    accn = getAccnFromPath(doc[0].metadata['source'])\n",
    "    metadataNoSnipH = getAllmetadata(accn,df)\n",
    "    state = 1\n",
    "    newSemantic_snippet = []\n",
    "    for semantic_snippet in doc:\n",
    "        if str('Om\\n').strip() == str(semantic_snippet.metadata['heading']).strip():\n",
    "            state = 0\n",
    "        if state == 1:\n",
    "            metadata = {'snipheading':semantic_snippet.metadata['heading'],'EliUrl':metadataNoSnipH['EliUrl'],'Rank':metadataNoSnipH['Rank'],'DokumentType':metadataNoSnipH['DokumentType'],'Titel':metadataNoSnipH['Titel'],'PopulærTitel':metadataNoSnipH['PopulærTitel'],'Ressort':metadataNoSnipH['Ressort'],'AdministrerendeMyndighed':metadataNoSnipH['AdministrerendeMyndighed'],'År':metadataNoSnipH['År'],'ACCN':metadataNoSnipH['ACCN'],'PubliceretTidspunkt':metadataNoSnipH['PubliceretTidspunkt'],'SidstPubliceretTidspunkt':metadataNoSnipH['SidstPubliceretTidspunkt'],'HjemmelVedroerer':metadataNoSnipH['HjemmelVedroerer']}\n",
    "            newSemantic_snippet.append(Document(page_content=semantic_snippet.page_content, metadata=metadata))\n",
    "    newDocs.append(newSemantic_snippet)        \n",
    "     "
   ]
  },
  {
   "cell_type": "code",
   "execution_count": null,
   "metadata": {},
   "outputs": [],
   "source": [
    "for semantic_snippet in newDocs[0]:\n",
    "    print('snipHEADING:  ',semantic_snippet.metadata['snipheading']) \n",
    "    print('-----------------')\n",
    "    print()\n",
    "    print('meta:  ',semantic_snippet.metadata)\n",
    "    print()\n",
    "    print('CONTENT_LENGT:  ',len(semantic_snippet.page_content))\n",
    "    print()\n",
    "    print('CONTENT_ESTIMATET_TOKEN:  ',len(semantic_snippet.page_content)/5)\n",
    "    print()\n",
    "    print('-----------------')\n",
    "    print()\n",
    "    print('CONTENT_FIRST_500C:')\n",
    "    print()\n",
    "    print(semantic_snippet.page_content[:500])\n",
    "    print('---------------------------------------------------------------------------------')\n",
    "    print()"
   ]
  },
  {
   "cell_type": "code",
   "execution_count": null,
   "metadata": {},
   "outputs": [],
   "source": [
    "count = 0\n",
    "totalErrorFilels = 0\n",
    "totalErrorAmount = 0\n",
    "for doc in newDocs: \n",
    "    count += 1\n",
    "    snipcount= 0\n",
    "    fileErrorCount = 0\n",
    "    for semantic_snippet in doc:\n",
    "        snipcount += 1\n",
    "        if len(semantic_snippet.page_content) > maxCareterLenght:\n",
    "            print('ERROR AT FILE:  ',count)\n",
    "            print('ERROR AT SNIPPET:  ',snipcount)\n",
    "            print('AMOUNT of ERRORS in file:  ',fileErrorCount)\n",
    "            print('PAGE_CONTENT_LENGT_TOKENS: ',len(semantic_snippet.page_content)/2)\n",
    "            print('-------------------------------')\n",
    "            fileErrorCount += 1   \n",
    "    if fileErrorCount > 0:\n",
    "        totalErrorAmount += fileErrorCount\n",
    "        totalErrorFilels += 1 \n",
    "        print('ERROR AT FILE:  ',count)\n",
    "        print('AMOUNT of ERRORS in file:  ',fileErrorCount)\n",
    "        print('--------------------------------------------') \n",
    "        print('_________________________NEW_FILE__________________________')\n",
    "if totalErrorFilels > 0:      \n",
    "    print('____________________________________________________END______________________________________________________')        \n",
    "    print('TOTAL ERROR FILES:  ',totalErrorFilels) \n",
    "    print('TOTAL ERROR AMOUNT:  ',totalErrorAmount)\n",
    "    print('AVAGE ERROR AMOUNT PER FILE:  ',totalErrorAmount/totalErrorFilels)    \n",
    "\n",
    "    "
   ]
  },
  {
   "cell_type": "code",
   "execution_count": 36,
   "metadata": {},
   "outputs": [
    {
     "data": {
      "text/plain": [
       "91"
      ]
     },
     "execution_count": 36,
     "metadata": {},
     "output_type": "execute_result"
    }
   ],
   "source": [
    "len(newDocs)"
   ]
  },
  {
   "cell_type": "code",
   "execution_count": 46,
   "metadata": {},
   "outputs": [
    {
     "name": "stdout",
     "output_type": "stream",
     "text": [
      "91\n"
     ]
    }
   ],
   "source": [
    "tokenDocs = []\n",
    "for doc in newDocs:\n",
    "    cur_idx = -1\n",
    "    tokenSemantic_snippet = []\n",
    "    for semantic_snippet in doc:\n",
    "        snipCareterLength = len(semantic_snippet.page_content)\n",
    "        if not tokenSemantic_snippet or (snipCareterLength + len(tokenSemantic_snippet[cur_idx].page_content)) >= maxCareterLenght:\n",
    "            tokenSemantic_snippet.append(Document(page_content=semantic_snippet.page_content, metadata=semantic_snippet.metadata))\n",
    "            cur_idx += 1\n",
    "            continue\n",
    "        \n",
    "        if (snipCareterLength + len(tokenSemantic_snippet[cur_idx].page_content)) <= maxCareterLenght:\n",
    "            tokenSemantic_snippet[cur_idx].page_content += semantic_snippet.page_content\n",
    "            continue\n",
    "        print('error')\n",
    "    tokenDocs.append(tokenSemantic_snippet)\n",
    "\n",
    "print(len(tokenDocs))            \n",
    "        "
   ]
  },
  {
   "cell_type": "code",
   "execution_count": null,
   "metadata": {},
   "outputs": [],
   "source": [
    "combined_snipCount = 0\n",
    "for doc in tokenDocs: \n",
    "    snip_count = 0 \n",
    "    print('DOC_TITEL: ',doc[0].metadata['Titel'])\n",
    "    for semantic_snippet in doc:\n",
    "        snip_count += 1\n",
    "        print('snipHEADING:  ',semantic_snippet.metadata['snipheading']) \n",
    "        print('-----------------')\n",
    "        print()\n",
    "        print()\n",
    "        print('CONTENT_LENGT:  ',len(semantic_snippet.page_content))\n",
    "        print()\n",
    "        print('CONTENT_ESTIMATET_TOKEN:  ',len(semantic_snippet.page_content)/3)\n",
    "        print('-------------------------')  \n",
    "    print('---------------------------------------------------------------------------------------------')\n",
    "    print('DOC_TITEL: ',doc[0].metadata['Titel'])\n",
    "    print()\n",
    "    print('DOC_SNIP_COUNT: ',snip_count)\n",
    "    print('---------------------------------------------------------------------------------------------')\n",
    "    print('________________NEW_DOC________________________')\n",
    "    print()\n",
    "    combined_snipCount += snip_count\n",
    "    "
   ]
  },
  {
   "cell_type": "code",
   "execution_count": null,
   "metadata": {},
   "outputs": [],
   "source": [
    "count = 0\n",
    "totalErrorFilels = 0\n",
    "totalErrorAmount = 0\n",
    "for doc in tokenDocs: \n",
    "    count += 1\n",
    "    snipcount= 0\n",
    "    fileErrorCount = 0\n",
    "    for semantic_snippet in doc:\n",
    "        snipcount += 1\n",
    "        if len(semantic_snippet.page_content) > maxCareterLenght:\n",
    "            print('ERROR AT FILE:  ',count)\n",
    "            print('ERROR AT SNIPPET:  ',snipcount)\n",
    "            print('AMOUNT of ERRORS in file:  ',fileErrorCount)\n",
    "            print('PAGE_CONTENT_LENGT_TOKENS: ',len(semantic_snippet.page_content)/3)\n",
    "            print('-------------------------------')\n",
    "            fileErrorCount += 1   \n",
    "    if fileErrorCount > 0:\n",
    "        totalErrorAmount += fileErrorCount\n",
    "        totalErrorFilels += 1 \n",
    "        print('ERROR AT FILE:  ',count)\n",
    "        print('AMOUNT of ERRORS in file:  ',fileErrorCount)\n",
    "        print('--------------------------------------------') \n",
    "        print('_________________________NEW_FILE__________________________')\n",
    "if totalErrorFilels > 0:      \n",
    "    print('____________________________________________________END______________________________________________________')        \n",
    "    print('TOTAL ERROR FILES:  ',totalErrorFilels) \n",
    "    print('TOTAL ERROR AMOUNT:  ',totalErrorAmount)\n",
    "    print('AVAGE ERROR AMOUNT PER FILE:  ',totalErrorAmount/totalErrorFilels)   "
   ]
  },
  {
   "cell_type": "code",
   "execution_count": 39,
   "metadata": {},
   "outputs": [
    {
     "data": {
      "text/plain": [
       "1805"
      ]
     },
     "execution_count": 39,
     "metadata": {},
     "output_type": "execute_result"
    }
   ],
   "source": [
    "combined_snipCount"
   ]
  },
  {
   "cell_type": "code",
   "execution_count": 73,
   "metadata": {},
   "outputs": [],
   "source": [
    "save_pathBig = f'D:/school/ALL_PDFs/snip7000t/small97test.pkl'"
   ]
  },
  {
   "cell_type": "code",
   "execution_count": 47,
   "metadata": {},
   "outputs": [
    {
     "data": {
      "text/plain": [
       "0"
      ]
     },
     "execution_count": 47,
     "metadata": {},
     "output_type": "execute_result"
    }
   ],
   "source": [
    "import pickle\n",
    "import gc\n",
    "gc.collect()\n",
    "with open(save_pathBig, 'wb') as outp:\n",
    "    pickle.dump(tokenDocs, outp, pickle.HIGHEST_PROTOCOL)\n",
    "gc.collect()"
   ]
  },
  {
   "cell_type": "code",
   "execution_count": 74,
   "metadata": {},
   "outputs": [],
   "source": [
    "import pickle\n",
    "with open(save_pathBig, 'rb') as f:\n",
    "        tokenDocs = pickle.load(f)\n",
    "        f.close()"
   ]
  },
  {
   "cell_type": "code",
   "execution_count": 75,
   "metadata": {},
   "outputs": [
    {
     "data": {
      "text/plain": [
       "91"
      ]
     },
     "execution_count": 75,
     "metadata": {},
     "output_type": "execute_result"
    }
   ],
   "source": [
    "len(tokenDocs)"
   ]
  },
  {
   "cell_type": "code",
   "execution_count": 76,
   "metadata": {},
   "outputs": [],
   "source": [
    "import matplotlib.pyplot as plt\n",
    "import tiktoken\n",
    "\n",
    "tokenmax = 7000\n",
    "maxCareterLenght = 2 * tokenmax\n",
    "\n",
    "def num_tokens_from_string(string: str, encoding_name: str) -> int:\n",
    "    \"\"\"Returns the number of tokens in a text string.\"\"\"\n",
    "    encoding = tiktoken.get_encoding(encoding_name)\n",
    "    num_tokens = len(encoding.encode(string))\n",
    "    return num_tokens"
   ]
  },
  {
   "cell_type": "code",
   "execution_count": 77,
   "metadata": {},
   "outputs": [
    {
     "name": "stdout",
     "output_type": "stream",
     "text": [
      "1805\n"
     ]
    }
   ],
   "source": [
    "finaldocs = []\n",
    "finaldocs = tokenDocs[0]\n",
    "count = 0\n",
    "for doc in tokenDocs: \n",
    "    if count == 0:\n",
    "        count += 1\n",
    "        continue\n",
    "    finaldocs.extend([*doc]) \n",
    "print(len(finaldocs))    "
   ]
  },
  {
   "cell_type": "code",
   "execution_count": null,
   "metadata": {},
   "outputs": [],
   "source": [
    "for docs in finaldocs:\n",
    "    if len(docs.page_content) > maxCareterLenght:\n",
    "        print('Doc:  ',docs.metadata['Titel']) \n",
    "        print(getAccnFromTitel(docs.metadata['Titel'],df))\n",
    "    \n",
    "        "
   ]
  },
  {
   "cell_type": "code",
   "execution_count": 53,
   "metadata": {},
   "outputs": [
    {
     "name": "stdout",
     "output_type": "stream",
     "text": [
      "1805\n",
      "{'snipheading': 'Lovtidende A\\n', 'EliUrl': 'https://www.retsinformation.dk/eli/lta/2014/511', 'Rank': 'A', 'DokumentType': 'Lov', 'Titel': 'Lov om indsamling m.v.', 'PopulærTitel': 'Indsamlingsloven', 'Ressort': 'Justitsministeriet', 'AdministrerendeMyndighed': 'nan', 'År': '2014', 'ACCN': 'A20140051130', 'PubliceretTidspunkt': '20140527', 'SidstPubliceretTidspunkt': '20140722', 'HjemmelVedroerer': 'nan'}\n"
     ]
    }
   ],
   "source": [
    "print(len(finaldocs))  \n",
    "print(finaldocs[0].metadata)"
   ]
  },
  {
   "cell_type": "code",
   "execution_count": 79,
   "metadata": {},
   "outputs": [
    {
     "name": "stdout",
     "output_type": "stream",
     "text": [
      "1805\n"
     ]
    }
   ],
   "source": [
    "final_docs_texts = [d.page_content for d in finaldocs]\n",
    "print(len(final_docs_texts))"
   ]
  },
  {
   "cell_type": "code",
   "execution_count": 80,
   "metadata": {},
   "outputs": [
    {
     "name": "stdout",
     "output_type": "stream",
     "text": [
      "1805\n"
     ]
    }
   ],
   "source": [
    "counts = [num_tokens_from_string(d, \"cl100k_base\") for d in final_docs_texts]\n",
    "print(len(counts))\n"
   ]
  },
  {
   "cell_type": "code",
   "execution_count": 69,
   "metadata": {},
   "outputs": [
    {
     "name": "stdout",
     "output_type": "stream",
     "text": [
      "Highest Count: 24800\n",
      "Title: Bekendtgørelse om ændring af bekendtgørelse om politiets tegngivning ved færdselsregulering\n"
     ]
    }
   ],
   "source": [
    "max_count = max(counts)\n",
    "max_index = counts.index(max_count)\n",
    "max_title = df['Titel'][max_index]\n",
    "\n",
    "print(\"Highest Count:\", max_count)\n",
    "print(\"Title:\", max_title)"
   ]
  },
  {
   "cell_type": "code",
   "execution_count": 82,
   "metadata": {},
   "outputs": [
    {
     "data": {
      "text/plain": [
       "<function matplotlib.pyplot.show(close=None, block=None)>"
      ]
     },
     "execution_count": 82,
     "metadata": {},
     "output_type": "execute_result"
    },
    {
     "data": {
      "image/png": "[encoded data removed]",
      "text/plain": [
       "<Figure size 1500x900 with 1 Axes>"
      ]
     },
     "metadata": {},
     "output_type": "display_data"
    }
   ],
   "source": [
    "import matplotlib.pyplot as plt\n",
    "import tiktoken\n",
    "\n",
    "\n",
    "plt.figure(figsize=(15, 9))\n",
    "plt.hist(counts, bins=97, color=\"blue\", edgecolor=\"black\", alpha=0.7)\n",
    "plt.title(\"Histogram of Token Counts\")\n",
    "plt.xlabel(\"Token Count\")\n",
    "plt.ylabel(\"Frequency\")\n",
    "plt.grid(axis=\"y\", alpha=0.75)\n",
    "\n",
    "plt.show"
   ]
  },
  {
   "cell_type": "code",
   "execution_count": 72,
   "metadata": {},
   "outputs": [
    {
     "name": "stdout",
     "output_type": "stream",
     "text": [
      "Num tokens in all context: 445017078\n"
     ]
    }
   ],
   "source": [
    "d_sorted = sorted(finaldocs, key=lambda x: x.metadata[\"ACCN\"])\n",
    "d_reversed = list(reversed(d_sorted))\n",
    "concatenated_content = \"\\n\\n\\n --- \\n\\n\\n\".join(\n",
    "    [doc.page_content for doc in d_reversed]\n",
    ")\n",
    "\n",
    "print(\n",
    "    \"Num tokens in all context: %s\"\n",
    "    % num_tokens_from_string(concatenated_content, \"cl100k_base\")\n",
    ")\n"
   ]
  },
  {
   "cell_type": "code",
   "execution_count": 32,
   "metadata": {},
   "outputs": [],
   "source": [
    "from langchain_community.embeddings import OllamaEmbeddings\n",
    "from langchain_community.embeddings.sentence_transformer import SentenceTransformerEmbeddings\n",
    "from langchain_community.chat_models import ChatOllama\n",
    "import os \n",
    "\n",
    "\n",
    "\n",
    "\n",
    "\n",
    "def load_embedding_model(config={}):\n",
    "    embeddings = SentenceTransformerEmbeddings(\n",
    "        model_name=\"all-MiniLM-L6-v2\", cache_folder=\"/embedding_model\"\n",
    "    )\n",
    "    dimension = 384\n",
    "    return embeddings, dimension    \n",
    "def load_llm(llm_name: str, config={}):\n",
    "    return ChatOllama(\n",
    "                temperature=0,\n",
    "                base_url=config[\"ollama_base_url\"],\n",
    "                model=llm_name,\n",
    "                streaming=True,\n",
    "                # seed=2,\n",
    "                top_k=10,  # A higher value (100) will give more diverse answers, while a lower value (10) will be more conservative.\n",
    "                top_p=0.3,  # Higher value (0.95) will lead to more diverse text, while a lower value (0.5) will generate more focused text.\n",
    "                num_ctx=8192,  # Sets the size of the context window used to generate the next token.\n",
    "            ) "
   ]
  },
  {
   "cell_type": "code",
   "execution_count": 33,
   "metadata": {},
   "outputs": [
    {
     "name": "stdout",
     "output_type": "stream",
     "text": [
      "llama3:8b-instruct-q5_K_M\n"
     ]
    },
    {
     "name": "stderr",
     "output_type": "stream",
     "text": [
      "c:\\Users\\Jens\\AppData\\Local\\pypoetry\\Cache\\virtualenvs\\data-sienc-visuel-mvgrUAeD-py3.10\\lib\\site-packages\\tqdm\\auto.py:21: TqdmWarning: IProgress not found. Please update jupyter and ipywidgets. See https://ipywidgets.readthedocs.io/en/stable/user_install.html\n",
      "  from .autonotebook import tqdm as notebook_tqdm\n",
      "c:\\Users\\Jens\\AppData\\Local\\pypoetry\\Cache\\virtualenvs\\data-sienc-visuel-mvgrUAeD-py3.10\\lib\\site-packages\\huggingface_hub\\file_download.py:1132: FutureWarning: `resume_download` is deprecated and will be removed in version 1.0.0. Downloads always resume when possible. If you want to force a new download, use `force_download=True`.\n",
      "  warnings.warn(\n"
     ]
    }
   ],
   "source": [
    "from dotenv import load_dotenv\n",
    "load_dotenv(\".env\")\n",
    "\n",
    "url = os.getenv(\"NEO4J_URI\")\n",
    "username = os.getenv(\"NEO4J_USERNAME\")\n",
    "password = os.getenv(\"NEO4J_PASSWORD\")\n",
    "ollama_base_url = os.getenv(\"OLLAMA_BASE_URL\")\n",
    "embedding_model_name = os.getenv(\"EMBEDDING_MODEL\")\n",
    "llm_name = os.getenv(\"LLM\")\n",
    "# Remapping for Langchain Neo4j integratio\n",
    "\n",
    "print(llm_name)\n",
    "\n",
    "\n",
    "embd, dimension = load_embedding_model()\n",
    "model = load_llm(llm_name, {\"ollama_base_url\": ollama_base_url})"
   ]
  },
  {
   "cell_type": "code",
   "execution_count": 34,
   "metadata": {},
   "outputs": [],
   "source": [
    "from typing import Dict, List, Optional, Tuple\n",
    "\n",
    "import numpy as np\n",
    "import pandas as pd\n",
    "import umap\n",
    "from langchain.prompts import ChatPromptTemplate\n",
    "from langchain_core.output_parsers import StrOutputParser\n",
    "from sklearn.mixture import GaussianMixture"
   ]
  },
  {
   "cell_type": "code",
   "execution_count": 35,
   "metadata": {},
   "outputs": [],
   "source": [
    "\n",
    "RANDOM_SEED = 224\n",
    "\n",
    "def global_cluster_embeddings(\n",
    "    embeddings: np.ndarray,\n",
    "    dim: int,\n",
    "    n_neighbors: Optional[int] = None,\n",
    "    metric: str = \"cosine\",\n",
    ") -> np.ndarray:\n",
    "    \"\"\"\n",
    "    Perform global dimensionality reduction on the embeddings using UMAP.\n",
    "\n",
    "    Parameters:\n",
    "    - embeddings: The input embeddings as a numpy array.\n",
    "    - dim: The target dimensionality for the reduced space.\n",
    "    - n_neighbors: Optional; the number of neighbors to consider for each point.\n",
    "                   If not provided, it defaults to the square root of the number of embeddings.\n",
    "    - metric: The distance metric to use for UMAP.\n",
    "\n",
    "    Returns:\n",
    "    - A numpy array of the embeddings reduced to the specified dimensionality.\n",
    "    \"\"\"\n",
    "    if n_neighbors is None:\n",
    "        n_neighbors = int((len(embeddings) - 1) ** 0.5)\n",
    "    return umap.UMAP(\n",
    "        n_neighbors=n_neighbors, n_components=dim, metric=metric\n",
    "    ).fit_transform(embeddings)\n",
    "\n",
    "\n",
    "def local_cluster_embeddings(\n",
    "    embeddings: np.ndarray, dim: int, num_neighbors: int = 10, metric: str = \"cosine\"\n",
    ") -> np.ndarray:\n",
    "    \"\"\"\n",
    "    Perform local dimensionality reduction on the embeddings using UMAP, typically after global clustering.\n",
    "\n",
    "    Parameters:\n",
    "    - embeddings: The input embeddings as a numpy array.\n",
    "    - dim: The target dimensionality for the reduced space.\n",
    "    - num_neighbors: The number of neighbors to consider for each point.\n",
    "    - metric: The distance metric to use for UMAP.\n",
    "\n",
    "    Returns:\n",
    "    - A numpy array of the embeddings reduced to the specified dimensionality.\n",
    "    \"\"\"\n",
    "    return umap.UMAP(\n",
    "        n_neighbors=num_neighbors, n_components=dim, metric=metric\n",
    "    ).fit_transform(embeddings)\n",
    "\n",
    "\n",
    "def get_optimal_clusters(\n",
    "    embeddings: np.ndarray, max_clusters: int = 50, random_state: int = RANDOM_SEED\n",
    ") -> int:\n",
    "    \"\"\"\n",
    "    Determine the optimal number of clusters using the Bayesian Information Criterion (BIC) with a Gaussian Mixture Model.\n",
    "\n",
    "    Parameters:\n",
    "    - embeddings: The input embeddings as a numpy array.\n",
    "    - max_clusters: The maximum number of clusters to consider.\n",
    "    - random_state: Seed for reproducibility.\n",
    "\n",
    "    Returns:\n",
    "    - An integer representing the optimal number of clusters found.\n",
    "    \"\"\"\n",
    "    max_clusters = min(max_clusters, len(embeddings))\n",
    "    n_clusters = np.arange(1, max_clusters)\n",
    "    bics = []\n",
    "    for n in n_clusters:\n",
    "        gm = GaussianMixture(n_components=n, random_state=random_state)\n",
    "        gm.fit(embeddings)\n",
    "        bics.append(gm.bic(embeddings))\n",
    "    return n_clusters[np.argmin(bics)]\n",
    "\n",
    "\n",
    "def GMM_cluster(embeddings: np.ndarray, threshold: float, random_state: int = 0):\n",
    "    \"\"\"\n",
    "    Cluster embeddings using a Gaussian Mixture Model (GMM) based on a probability threshold.\n",
    "\n",
    "    Parameters:\n",
    "    - embeddings: The input embeddings as a numpy array.\n",
    "    - threshold: The probability threshold for assigning an embedding to a cluster.\n",
    "    - random_state: Seed for reproducibility.\n",
    "\n",
    "    Returns:\n",
    "    - A tuple containing the cluster labels and the number of clusters determined.\n",
    "    \"\"\"\n",
    "    n_clusters = get_optimal_clusters(embeddings)\n",
    "    gm = GaussianMixture(n_components=n_clusters, random_state=random_state)\n",
    "    gm.fit(embeddings)\n",
    "    probs = gm.predict_proba(embeddings)\n",
    "    labels = [np.where(prob > threshold)[0] for prob in probs]\n",
    "    return labels, n_clusters\n",
    "\n",
    "\n",
    "def perform_clustering(\n",
    "    embeddings: np.ndarray,\n",
    "    dim: int,\n",
    "    threshold: float,\n",
    ") -> List[np.ndarray]:\n",
    "    \"\"\"\n",
    "    Perform clustering on the embeddings by first reducing their dimensionality globally, then clustering\n",
    "    using a Gaussian Mixture Model, and finally performing local clustering within each global cluster.\n",
    "\n",
    "    Parameters:\n",
    "    - embeddings: The input embeddings as a numpy array.\n",
    "    - dim: The target dimensionality for UMAP reduction.\n",
    "    - threshold: The probability threshold for assigning an embedding to a cluster in GMM.\n",
    "\n",
    "    Returns:\n",
    "    - A list of numpy arrays, where each array contains the cluster IDs for each embedding.\n",
    "    \"\"\"\n",
    "    if len(embeddings) <= dim + 1:\n",
    "        # Avoid clustering when there's insufficient data\n",
    "        return [np.array([0]) for _ in range(len(embeddings))]\n",
    "\n",
    "    # Global dimensionality reduction\n",
    "    reduced_embeddings_global = global_cluster_embeddings(embeddings, dim)\n",
    "    # Global clustering\n",
    "    global_clusters, n_global_clusters = GMM_cluster(\n",
    "        reduced_embeddings_global, threshold\n",
    "    )\n",
    "\n",
    "    all_local_clusters = [np.array([]) for _ in range(len(embeddings))]\n",
    "    total_clusters = 0\n",
    "\n",
    "    # Iterate through each global cluster to perform local clustering\n",
    "    for i in range(n_global_clusters):\n",
    "        # Extract embeddings belonging to the current global cluster\n",
    "        global_cluster_embeddings_ = embeddings[\n",
    "            np.array([i in gc for gc in global_clusters])\n",
    "        ]\n",
    "\n",
    "        if len(global_cluster_embeddings_) == 0:\n",
    "            continue\n",
    "        if len(global_cluster_embeddings_) <= dim + 1:\n",
    "            # Handle small clusters with direct assignment\n",
    "            local_clusters = [np.array([0]) for _ in global_cluster_embeddings_]\n",
    "            n_local_clusters = 1\n",
    "        else:\n",
    "            # Local dimensionality reduction and clustering\n",
    "            reduced_embeddings_local = local_cluster_embeddings(\n",
    "                global_cluster_embeddings_, dim\n",
    "            )\n",
    "            local_clusters, n_local_clusters = GMM_cluster(\n",
    "                reduced_embeddings_local, threshold\n",
    "            )\n",
    "\n",
    "        # Assign local cluster IDs, adjusting for total clusters already processed\n",
    "        for j in range(n_local_clusters):\n",
    "            local_cluster_embeddings_ = global_cluster_embeddings_[\n",
    "                np.array([j in lc for lc in local_clusters])\n",
    "            ]\n",
    "            indices = np.where(\n",
    "                (embeddings == local_cluster_embeddings_[:, None]).all(-1)\n",
    "            )[1]\n",
    "            for idx in indices:\n",
    "                all_local_clusters[idx] = np.append(\n",
    "                    all_local_clusters[idx], j + total_clusters\n",
    "                )\n",
    "\n",
    "        total_clusters += n_local_clusters\n",
    "\n",
    "    return all_local_clusters\n",
    "\n",
    "\n",
    "### --- Our code below --- ###\n",
    "\n",
    "\n",
    "def embed(texts):\n",
    "    \"\"\"\n",
    "    Generate embeddings for a list of text documents.\n",
    "\n",
    "    This function assumes the existence of an `embd` object with a method `embed_documents`\n",
    "    that takes a list of texts and returns their embeddings.\n",
    "\n",
    "    Parameters:\n",
    "    - texts: List[str], a list of text documents to be embedded.\n",
    "\n",
    "    Returns:\n",
    "    - numpy.ndarray: An array of embeddings for the given text documents.\n",
    "    \"\"\"\n",
    "    text_embeddings = embd.embed_documents(texts)\n",
    "    text_embeddings_np = np.array(text_embeddings)\n",
    "    return text_embeddings_np\n",
    "\n",
    "\n",
    "def embed_cluster_texts(texts):\n",
    "    \"\"\"\n",
    "    Embeds a list of texts and clusters them, returning a DataFrame with texts, their embeddings, and cluster labels.\n",
    "\n",
    "    This function combines embedding generation and clustering into a single step. It assumes the existence\n",
    "    of a previously defined `perform_clustering` function that performs clustering on the embeddings.\n",
    "\n",
    "    Parameters:\n",
    "    - texts: List[str], a list of text documents to be processed.\n",
    "\n",
    "    Returns:\n",
    "    - pandas.DataFrame: A DataFrame containing the original texts, their embeddings, and the assigned cluster labels.\n",
    "    \"\"\"\n",
    "    text_embeddings_np = embed(texts)  # Generate embeddings\n",
    "    cluster_labels = perform_clustering(\n",
    "        text_embeddings_np, 10, 0.1\n",
    "    )  # Perform clustering on the embeddings\n",
    "    df = pd.DataFrame()  # Initialize a DataFrame to store the results\n",
    "    df[\"text\"] = texts  # Store original texts\n",
    "    df[\"embd\"] = list(text_embeddings_np)  # Store embeddings as a list in the DataFrame\n",
    "    df[\"cluster\"] = cluster_labels  # Store cluster labels\n",
    "    return df\n",
    "\n",
    "\n",
    "def fmt_txt(df: pd.DataFrame) -> str:\n",
    "    \"\"\"\n",
    "    Formats the text documents in a DataFrame into a single string.\n",
    "\n",
    "    Parameters:\n",
    "    - df: DataFrame containing the 'text' column with text documents to format.\n",
    "\n",
    "    Returns:\n",
    "    - A single string where all text documents are joined by a specific delimiter.\n",
    "    \"\"\"\n",
    "    unique_txt = df[\"text\"].tolist()\n",
    "    return \"--- --- \\n --- --- \".join(unique_txt)\n",
    "\n",
    "\n",
    "def embed_cluster_summarize_texts(\n",
    "    texts: List[str], level: int\n",
    ") -> Tuple[pd.DataFrame, pd.DataFrame]:\n",
    "    \"\"\"\n",
    "    Embeds, clusters, and summarizes a list of texts. This function first generates embeddings for the texts,\n",
    "    clusters them based on similarity, expands the cluster assignments for easier processing, and then summarizes\n",
    "    the content within each cluster.\n",
    "\n",
    "    Parameters:\n",
    "    - texts: A list of text documents to be processed.\n",
    "    - level: An integer parameter that could define the depth or detail of processing.\n",
    "\n",
    "    Returns:\n",
    "    - Tuple containing two DataFrames:\n",
    "      1. The first DataFrame (`df_clusters`) includes the original texts, their embeddings, and cluster assignments.\n",
    "      2. The second DataFrame (`df_summary`) contains summaries for each cluster, the specified level of detail,\n",
    "         and the cluster identifiers.\n",
    "    \"\"\"\n",
    "\n",
    "    # Embed and cluster the texts, resulting in a DataFrame with 'text', 'embd', and 'cluster' columns\n",
    "    df_clusters = embed_cluster_texts(texts)\n",
    "\n",
    "    # Prepare to expand the DataFrame for easier manipulation of clusters\n",
    "    expanded_list = []\n",
    "\n",
    "    # Expand DataFrame entries to document-cluster pairings for straightforward processing\n",
    "    for index, row in df_clusters.iterrows():\n",
    "        for cluster in row[\"cluster\"]:\n",
    "            expanded_list.append(\n",
    "                {\"text\": row[\"text\"], \"embd\": row[\"embd\"], \"cluster\": cluster}\n",
    "            )\n",
    "\n",
    "    # Create a new DataFrame from the expanded list\n",
    "    expanded_df = pd.DataFrame(expanded_list)\n",
    "\n",
    "    # Retrieve unique cluster identifiers for processing\n",
    "    all_clusters = expanded_df[\"cluster\"].unique()\n",
    "\n",
    "    print(f\"--Generated {len(all_clusters)} clusters--\")\n",
    "\n",
    "    # Summarization\n",
    "    template = \"\"\"System: This is a chat between a user and an artificial intelligence assistant.\n",
    "     \n",
    "    The assistant gives helpful, detailed, and polite answers to the user's questions based on the context. \n",
    "    \n",
    "    Her is a sub-set of Danish law text, use the following pieces of context to give a detailed summarization. Write this summarization in Danish.\n",
    "    Danish law text:\n",
    "    {context}\n",
    "    \"\"\"\n",
    "    prompt = ChatPromptTemplate.from_template(template)\n",
    "    chain = prompt | model | StrOutputParser()\n",
    "\n",
    "    # Format text within each cluster for summarization\n",
    "    summaries = []\n",
    "    for i in all_clusters:\n",
    "        df_cluster = expanded_df[expanded_df[\"cluster\"] == i]\n",
    "        formatted_txt = fmt_txt(df_cluster)\n",
    "        summaries.append(chain.invoke({\"context\": formatted_txt}))\n",
    "\n",
    "    # Create a DataFrame to store summaries with their corresponding cluster and level\n",
    "    df_summary = pd.DataFrame(\n",
    "        {\n",
    "            \"summaries\": summaries,\n",
    "            \"level\": [level] * len(summaries),\n",
    "            \"cluster\": list(all_clusters),\n",
    "        }\n",
    "    )\n",
    "\n",
    "    return df_clusters, df_summary\n",
    "\n",
    "\n",
    "def recursive_embed_cluster_summarize(\n",
    "    texts: List[str], level: int = 1, n_levels: int = 3\n",
    ") -> Dict[int, Tuple[pd.DataFrame, pd.DataFrame]]:\n",
    "    \"\"\"\n",
    "    Recursively embeds, clusters, and summarizes texts up to a specified level or until\n",
    "    the number of unique clusters becomes 1, storing the results at each level.\n",
    "\n",
    "    Parameters:\n",
    "    - texts: List[str], texts to be processed.\n",
    "    - level: int, current recursion level (starts at 1).\n",
    "    - n_levels: int, maximum depth of recursion.\n",
    "\n",
    "    Returns:\n",
    "    - Dict[int, Tuple[pd.DataFrame, pd.DataFrame]], a dictionary where keys are the recursion\n",
    "      levels and values are tuples containing the clusters DataFrame and summaries DataFrame at that level.\n",
    "    \"\"\"\n",
    "    results = {}  # Dictionary to store results at each level\n",
    "\n",
    "    # Perform embedding, clustering, and summarization for the current level\n",
    "    df_clusters, df_summary = embed_cluster_summarize_texts(texts, level)\n",
    "\n",
    "    # Store the results of the current level\n",
    "    results[level] = (df_clusters, df_summary)\n",
    "\n",
    "    # Determine if further recursion is possible and meaningful\n",
    "    unique_clusters = df_summary[\"cluster\"].nunique()\n",
    "    if level < n_levels and unique_clusters > 1:\n",
    "        # Use summaries as the input texts for the next level of recursion\n",
    "        new_texts = df_summary[\"summaries\"].tolist()\n",
    "        next_level_results = recursive_embed_cluster_summarize(\n",
    "            new_texts, level + 1, n_levels\n",
    "        )\n",
    "\n",
    "        # Merge the results from the next level into the current results dictionary\n",
    "        results.update(next_level_results)\n",
    "\n",
    "    return results"
   ]
  },
  {
   "cell_type": "code",
   "execution_count": 36,
   "metadata": {},
   "outputs": [
    {
     "name": "stdout",
     "output_type": "stream",
     "text": [
      "--Generated 285 clusters--\n",
      "--Generated 56 clusters--\n",
      "--Generated 8 clusters--\n",
      "--Generated 1 clusters--\n"
     ]
    }
   ],
   "source": [
    "leaf_texts = final_docs_texts\n",
    "results = recursive_embed_cluster_summarize(leaf_texts, level=1, n_levels=4)"
   ]
  },
  {
   "cell_type": "code",
   "execution_count": null,
   "metadata": {},
   "outputs": [],
   "source": [
    "all_texts = leaf_texts.copy()\n",
    "\n",
    "for level in sorted(results.keys()):\n",
    "    # Extract summaries from the current level's DataFrame\n",
    "    summaries = results[level][1][\"summaries\"].tolist()\n",
    "    print(summaries)\n",
    "    # Extend all_texts with the summaries from the current level\n",
    "    all_texts.extend(summaries)\n",
    "    \n",
    "    "
   ]
  },
  {
   "cell_type": "code",
   "execution_count": null,
   "metadata": {},
   "outputs": [],
   "source": [
    "from langchain_community.vectorstores import Neo4jVector\n",
    "from langchain.chains import RetrievalQA\n",
    "from langchain.callbacks.base import BaseCallbackHandler\n",
    "from dotenv import load_dotenv"
   ]
  },
  {
   "cell_type": "code",
   "execution_count": null,
   "metadata": {},
   "outputs": [],
   "source": [
    "from langchain_community.vectorstores import Neo4jVector\n",
    "from langchain.chains import RetrievalQA\n",
    "from langchain.callbacks.base import BaseCallbackHandler\n",
    "from dotenv import load_dotenv\n",
    "\n",
    "\n",
    "\n",
    "\n",
    "load_dotenv(\".env\")\n",
    "url = os.getenv(\"NEO4J_URI\")\n",
    "username = os.getenv(\"NEO4J_USERNAME\")\n",
    "password = os.getenv(\"NEO4J_PASSWORD\")\n",
    "ollama_base_url = os.getenv(\"OLLAMA_BASE_URL\")\n",
    "os.environ[\"NEO4J_URL\"] = url\n",
    "\n",
    "vectorstore = Neo4jVector.from_texts(\n",
    "            all_texts,\n",
    "            url=url,\n",
    "            username=username,\n",
    "            password=password,\n",
    "            embedding=embd,\n",
    "            index_name=\"raptor\",\n",
    "            node_label=\"raptor_node\",\n",
    "            pre_delete_collection=True,  # Delete existing PDF datac\n",
    "        )\n",
    "\n",
    "qa = RetrievalQA.from_chain_type(\n",
    "        llm=model, chain_type=\"stuff\", retriever=vectorstore.as_retriever()\n",
    "    )"
   ]
  },
  {
   "cell_type": "code",
   "execution_count": null,
   "metadata": {},
   "outputs": [],
   "source": [
    "\n",
    "from langchain import hub\n",
    "from langchain_core.runnables import RunnablePassthrough\n",
    "\n",
    "\n",
    "\n",
    "qa.invoke(\"User: hvad er den danske lov for indsamlinger? svar gerne med 5 punkter\", callback=BaseCallbackHandler())"
   ]
  }
 ],
 "metadata": {
  "kernelspec": {
   "display_name": "data-sienc-visuel-mvgrUAeD-py3.10",
   "language": "python",
   "name": "python3"
  },
  "language_info": {
   "codemirror_mode": {
    "name": "ipython",
    "version": 3
   },
   "file_extension": ".py",
   "mimetype": "text/x-python",
   "name": "python",
   "nbconvert_exporter": "python",
   "pygments_lexer": "ipython3",
   "version": "3.10.11"
  }
 },
 "nbformat": 4,
 "nbformat_minor": 2
}
